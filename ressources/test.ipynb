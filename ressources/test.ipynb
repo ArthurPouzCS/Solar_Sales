{
 "cells": [
  {
   "cell_type": "code",
   "execution_count": 1,
   "metadata": {},
   "outputs": [],
   "source": [
    "import pandas as pd\n",
    "\n",
    "df = pd.read_excel('tarifs.xlsx')"
   ]
  },
  {
   "cell_type": "code",
   "execution_count": 73,
   "metadata": {},
   "outputs": [
    {
     "ename": "IndentationError",
     "evalue": "expected an indented block after 'if' statement on line 10 (3562841535.py, line 11)",
     "output_type": "error",
     "traceback": [
      "\u001b[1;36m  Cell \u001b[1;32mIn[73], line 11\u001b[1;36m\u001b[0m\n\u001b[1;33m    df_clean = df.iloc[2:, 0:5].rename(columns=df.iloc[1:, 0:5].iloc[0])\u001b[0m\n\u001b[1;37m    ^\u001b[0m\n\u001b[1;31mIndentationError\u001b[0m\u001b[1;31m:\u001b[0m expected an indented block after 'if' statement on line 10\n"
     ]
    }
   ],
   "source": [
    "def tarif_pv(dic):\n",
    "if dic['pv_unitaire']==375 and 'FHE' not in dic['option_materiel']:\n",
    "    if 'Micro onduleurs' in dic['option_materiel'] : #and #passerelles??:\n",
    "        df_clean = df.iloc[2:, 0:5].rename(columns=df.iloc[1:, 0:5].iloc[0])\n",
    "        ligne = df_clean[df_clean['QTÉ']==dic['nbr_panneaux']]\n",
    "        puissance, ttc, edf, tva = ligne.iloc[0,1],ligne.iloc[0,2],ligne.iloc[0,3],ligne.iloc[0,4]\n",
    "        if '//' in tva:\n",
    "            tva=0\n",
    "        return puissance, ttc, edf, tva\n",
    "elif dic['pv_unitaire']==375 and 'FHE' in dic['option_materiel']:\n",
    "    df_clean = df.iloc[2:,[0,5,6]].rename(columns=df.iloc[1:,[0,5,6]].iloc[0])\n",
    "    ligne = df_clean[df_clean['QTÉ']==dic['nbr_panneaux']]\n",
    "    qte_fhe, ttc_fhe, tva_fhe = ligne.iloc[0,0],ligne.iloc[0,1],ligne.iloc[0,2]\n",
    "    if '//' in tva_fhe:\n",
    "        tva_fhe=0\n",
    "    qte_fhe, ttc_fhe, tva_fhe\n",
    "elif dic['pv_unitaire']==500 and 'FHE' not in dic['option_materiel']:\n",
    "    if 'Micro onduleurs' in dic['option_materiel'] :\n",
    "        df_clean = df.iloc[2:,8:13].rename(columns=df.iloc[1:,8:13].iloc[0])\n",
    "        ligne = df_clean[df_clean['QTÉ']==dic['nbr_panneaux']]\n",
    "        puissance, ttc, edf, tva = ligne.iloc[0,1],ligne.iloc[0,2],ligne.iloc[0,3],ligne.iloc[0,4]\n",
    "        if '//' in tva:\n",
    "            tva=0\n",
    "        return puissance, ttc, edf, tva\n",
    "elif dic['pv_unitaire']==500 and 'FHE' in dic['option_materiel']:\n",
    "    df_clean = df.iloc[2:,[8,13,14]].rename(columns=df.iloc[1:,[13,14]].iloc[0])\n",
    "    ligne = df_clean[df_clean['PV 500 WATTS SEULS']==dic['nbr_panneaux']] # c'est la colonne quantité juste on la voit pas\n",
    "    qte, ttc_fhe, tva_fhe = ligne.iloc[0,0],ligne.iloc[0,1],ligne.iloc[0,2]\n",
    "    if '//' in tva_fhe:\n",
    "        tva_fhe=0\n",
    "    qte, tva_fhe, ttc_fhe\n",
    "\n",
    "return qte, puissance, ttc, edf, tva, ttc_fhe, tva_fhe\n",
    "\n",
    "\n"
   ]
  },
  {
   "cell_type": "code",
   "execution_count": 140,
   "metadata": {},
   "outputs": [
    {
     "data": {
      "text/plain": [
       "(6, 12900, 0)"
      ]
     },
     "execution_count": 140,
     "metadata": {},
     "output_type": "execute_result"
    }
   ],
   "source": [
    "df_clean = df.iloc[2:,[0,5,6]].rename(columns=df.iloc[1:,[0,5,6]].iloc[0])\n",
    "ligne = df_clean[df_clean['QTÉ']==dic['nbr_panneaux']]\n",
    "qte_fhe, ttc_fhe, tva_fhe = ligne.iloc[0,0],ligne.iloc[0,1],ligne.iloc[0,2]\n",
    "if '//' in tva_fhe:\n",
    "    tva_fhe=0\n",
    "qte_fhe, ttc_fhe, tva_fhe"
   ]
  },
  {
   "cell_type": "code",
   "execution_count": 71,
   "metadata": {},
   "outputs": [
    {
     "data": {
      "text/plain": [
       "(2250, 15900, 832.5, 0)"
      ]
     },
     "execution_count": 71,
     "metadata": {},
     "output_type": "execute_result"
    }
   ],
   "source": [
    "#df.iloc[1:, 0:5].set_index(df.iloc[1,:])\n",
    "dic =  {'nbr_panneaux':6}\n",
    "df_clean = df.iloc[2:, 0:5].rename(columns=df.iloc[1:, 0:5].iloc[0])\n",
    "ligne = df_clean[df_clean['QTÉ']==dic['nbr_panneaux']]\n",
    "puissance, ttc, edf, tva = ligne.iloc[0,1],ligne.iloc[0,2],ligne.iloc[0,3],ligne.iloc[0,4]\n",
    "if tva == '// ':\n",
    "    tva=0\n",
    "puissance, ttc, edf, tva"
   ]
  },
  {
   "cell_type": "code",
   "execution_count": 2,
   "metadata": {},
   "outputs": [
    {
     "name": "stdout",
     "output_type": "stream",
     "text": [
      "Mot de passe chiffré: 120\n",
      "Mot de passe déchiffré: MotDePasseSecret\n",
      "b'2xd6zNzD7ZVdU2spmZKrYH0zSGqNyad4aNRVLgDWQlo='\n"
     ]
    }
   ],
   "source": [
    "from cryptography.fernet import Fernet\n",
    "\n",
    "# Générer une clé secrète\n",
    "cle_secrete = Fernet.generate_key()\n",
    "\n",
    "# Créer un objet Fernet avec la clé secrète\n",
    "fernet = Fernet(cle_secrete)\n",
    "\n",
    "# Mot de passe à crypter\n",
    "mot_de_passe = \"MotDePasseSecret\"\n",
    "\n",
    "# Chiffrer le mot de passe\n",
    "mot_de_passe_chiffre = fernet.encrypt(mot_de_passe.encode('utf-8'))\n",
    "\n",
    "# Afficher le mot de passe chiffré\n",
    "print(\"Mot de passe chiffré:\", len(mot_de_passe_chiffre))\n",
    "\n",
    "# Déchiffrer le mot de passe\n",
    "mot_de_passe_dechiffre = fernet.decrypt(mot_de_passe_chiffre)\n",
    "\n",
    "# Afficher le mot de passe déchiffré\n",
    "print(\"Mot de passe déchiffré:\", mot_de_passe_dechiffre.decode('utf-8'))\n",
    "\n",
    "print(cle_secrete)\n"
   ]
  }
 ],
 "metadata": {
  "kernelspec": {
   "display_name": "Python 3",
   "language": "python",
   "name": "python3"
  },
  "language_info": {
   "codemirror_mode": {
    "name": "ipython",
    "version": 3
   },
   "file_extension": ".py",
   "mimetype": "text/x-python",
   "name": "python",
   "nbconvert_exporter": "python",
   "pygments_lexer": "ipython3",
   "version": "3.12.0"
  }
 },
 "nbformat": 4,
 "nbformat_minor": 2
}
